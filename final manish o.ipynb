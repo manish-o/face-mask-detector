{
 "cells": [
  {
   "cell_type": "code",
   "execution_count": 3,
   "metadata": {},
   "outputs": [
    {
     "name": "stdout",
     "output_type": "stream",
     "text": [
      "{'without_mask': 0, 'with_mask': 1}\n",
      "['without_mask', 'with_mask']\n",
      "[0, 1]\n"
     ]
    }
   ],
   "source": [
    "import cv2,os\n",
    "\n",
    "data_path='dataset'\n",
    "categories=os.listdir(data_path)\n",
    "labels=[i for i in range(len(categories))]\n",
    "\n",
    "label_dict=dict(zip(categories,labels))\n",
    "\n",
    "print(label_dict)\n",
    "print(categories)\n",
    "print(labels)"
   ]
  },
  {
   "cell_type": "code",
   "execution_count": 2,
   "metadata": {},
   "outputs": [],
   "source": [
    "img_size=100\n",
    "data=[]\n",
    "target=[]\n",
    "\n",
    "\n",
    "for category in categories:\n",
    "    folder_path=os.path.join(data_path,category)\n",
    "    img_names=os.listdir(folder_path)\n",
    "        \n",
    "    for img_name in img_names:\n",
    "        img_path=os.path.join(folder_path,img_name)\n",
    "        img=cv2.imread(img_path)\n",
    "\n",
    "        try:\n",
    "            gray=cv2.cvtColor(img,cv2.COLOR_BGR2GRAY)           \n",
    "            #Coverting the image into gray scale\n",
    "            resized=cv2.resize(gray,(img_size,img_size))\n",
    "            #resizing the gray scale into 100x100, since we need a fixed common size for all the images in the dataset\n",
    "            data.append(resized)\n",
    "            target.append(label_dict[category])\n",
    "            #appending the image and the label(categorized) into the list (dataset)\n",
    "\n",
    "        except Exception as e:\n",
    "            print('Exception:',e)\n",
    "            #if any exception rasied, the exception will be printed here. And pass to the next image"
   ]
  },
  {
   "cell_type": "code",
   "execution_count": 3,
   "metadata": {},
   "outputs": [],
   "source": [
    "\n",
    "import numpy as np\n",
    "\n",
    "data=np.array(data)/255.0\n",
    "data=np.reshape(data,(data.shape[0],img_size,img_size,1))\n",
    "target=np.array(target)\n",
    "\n",
    "from keras.utils import np_utils\n",
    "\n",
    "new_target=np_utils.to_categorical(target)"
   ]
  },
  {
   "cell_type": "code",
   "execution_count": 4,
   "metadata": {},
   "outputs": [],
   "source": [
    "np.save('data',data)\n",
    "np.save('target',new_target)"
   ]
  },
  {
   "cell_type": "code",
   "execution_count": 5,
   "metadata": {},
   "outputs": [],
   "source": [
    "\n",
    "import numpy as np\n",
    "\n",
    "data=np.load('data.npy')\n",
    "target=np.load('target.npy')"
   ]
  },
  {
   "cell_type": "code",
   "execution_count": 6,
   "metadata": {},
   "outputs": [],
   "source": [
    "from keras.models import Sequential\n",
    "from keras.layers import Dense,Activation,Flatten,Dropout\n",
    "from keras.layers import Conv2D,MaxPooling2D\n",
    "from keras.callbacks import ModelCheckpoint\n",
    "\n",
    "model=Sequential()\n",
    "\n",
    "model.add(Conv2D(100,(3,3),input_shape=data.shape[1:]))\n",
    "model.add(Activation('relu'))\n",
    "model.add(MaxPooling2D(pool_size=(2,2)))\n",
    "#The first CNN layer followed by Relu and MaxPooling layers\n",
    "\n",
    "model.add(Conv2D(100,(3,3)))\n",
    "model.add(Activation('relu'))\n",
    "model.add(MaxPooling2D(pool_size=(2,2)))\n",
    "#The second convolution layer followed by Relu and MaxPooling layers\n",
    "\n",
    "model.add(Flatten())\n",
    "model.add(Dropout(0.5))\n",
    "#Flatten layer to stack the output convolutions from second convolution layer\n",
    "model.add(Dense(50,activation='relu'))\n",
    "#Dense layer of 64 neurons\n",
    "model.add(Dense(2,activation='softmax'))\n",
    "#The Final layer with two outputs for two categories\n",
    "\n",
    "model.compile(loss='binary_crossentropy',optimizer='adam',metrics=['accuracy'])"
   ]
  },
  {
   "cell_type": "code",
   "execution_count": 7,
   "metadata": {},
   "outputs": [],
   "source": [
    "\n",
    "from sklearn.model_selection import train_test_split\n",
    "\n",
    "train_data,test_data,train_target,test_target=train_test_split(data,target,test_size=0.1)"
   ]
  },
  {
   "cell_type": "code",
   "execution_count": 8,
   "metadata": {},
   "outputs": [
    {
     "name": "stdout",
     "output_type": "stream",
     "text": [
      "Epoch 1/15\n",
      "34/34 [==============================] - 44s 1s/step - loss: 0.7161 - accuracy: 0.5310 - val_loss: 0.6664 - val_accuracy: 0.5037\n",
      "INFO:tensorflow:Assets written to: model-001.model\\assets\n",
      "Epoch 2/15\n",
      "34/34 [==============================] - 40s 1s/step - loss: 0.6416 - accuracy: 0.6773 - val_loss: 0.5631 - val_accuracy: 0.6507\n",
      "INFO:tensorflow:Assets written to: model-002.model\\assets\n",
      "Epoch 3/15\n",
      "34/34 [==============================] - 45s 1s/step - loss: 0.4947 - accuracy: 0.7600 - val_loss: 0.4399 - val_accuracy: 0.7537\n",
      "INFO:tensorflow:Assets written to: model-003.model\\assets\n",
      "Epoch 4/15\n",
      "34/34 [==============================] - 46s 1s/step - loss: 0.3860 - accuracy: 0.8209 - val_loss: 0.3690 - val_accuracy: 0.8640\n",
      "INFO:tensorflow:Assets written to: model-004.model\\assets\n",
      "Epoch 5/15\n",
      "34/34 [==============================] - 44s 1s/step - loss: 0.2853 - accuracy: 0.8965 - val_loss: 0.3014 - val_accuracy: 0.8934\n",
      "INFO:tensorflow:Assets written to: model-005.model\\assets\n",
      "Epoch 6/15\n",
      "34/34 [==============================] - 43s 1s/step - loss: 0.1931 - accuracy: 0.9427 - val_loss: 0.2552 - val_accuracy: 0.8971\n",
      "INFO:tensorflow:Assets written to: model-006.model\\assets\n",
      "Epoch 7/15\n",
      "34/34 [==============================] - 42s 1s/step - loss: 0.1806 - accuracy: 0.9304 - val_loss: 0.2197 - val_accuracy: 0.9301\n",
      "INFO:tensorflow:Assets written to: model-007.model\\assets\n",
      "Epoch 8/15\n",
      "34/34 [==============================] - 39s 1s/step - loss: 0.1372 - accuracy: 0.9483 - val_loss: 0.2228 - val_accuracy: 0.9191\n",
      "Epoch 9/15\n",
      "34/34 [==============================] - 41s 1s/step - loss: 0.0920 - accuracy: 0.9689 - val_loss: 0.1926 - val_accuracy: 0.9375\n",
      "INFO:tensorflow:Assets written to: model-009.model\\assets\n",
      "Epoch 10/15\n",
      "34/34 [==============================] - 39s 1s/step - loss: 0.0821 - accuracy: 0.9645 - val_loss: 0.1856 - val_accuracy: 0.9375\n",
      "INFO:tensorflow:Assets written to: model-010.model\\assets\n",
      "Epoch 11/15\n",
      "34/34 [==============================] - 40s 1s/step - loss: 0.0509 - accuracy: 0.9871 - val_loss: 0.2019 - val_accuracy: 0.9412\n",
      "Epoch 12/15\n",
      "34/34 [==============================] - 41s 1s/step - loss: 0.0478 - accuracy: 0.9865 - val_loss: 0.2300 - val_accuracy: 0.9191\n",
      "Epoch 13/15\n",
      "34/34 [==============================] - 46s 1s/step - loss: 0.0568 - accuracy: 0.9782 - val_loss: 0.1882 - val_accuracy: 0.9485\n",
      "Epoch 14/15\n",
      "34/34 [==============================] - 45s 1s/step - loss: 0.0375 - accuracy: 0.9891 - val_loss: 0.2438 - val_accuracy: 0.9265\n",
      "Epoch 15/15\n",
      "34/34 [==============================] - 40s 1s/step - loss: 0.0407 - accuracy: 0.9857 - val_loss: 0.1667 - val_accuracy: 0.9559\n",
      "INFO:tensorflow:Assets written to: model-015.model\\assets\n"
     ]
    }
   ],
   "source": [
    "checkpoint = ModelCheckpoint('model-{epoch:03d}.model',monitor='val_loss',verbose=0,save_best_only=True,mode='auto')\n",
    "history=model.fit(train_data,train_target,epochs=15,callbacks=[checkpoint],validation_split=0.2)"
   ]
  },
  {
   "cell_type": "code",
   "execution_count": 9,
   "metadata": {},
   "outputs": [
    {
     "data": {
      "image/png": "[encoded data removed]",
      "text/plain": [
       "<Figure size 432x288 with 1 Axes>"
      ]
     },
     "metadata": {
      "needs_background": "light"
     },
     "output_type": "display_data"
    }
   ],
   "source": [
    "\n",
    "from matplotlib import pyplot as plt\n",
    "\n",
    "plt.plot(history.history['loss'],'r',label='training loss')\n",
    "plt.plot(history.history['val_loss'],label='validation loss')\n",
    "plt.xlabel('# epochs')\n",
    "plt.ylabel('loss')\n",
    "plt.legend()\n",
    "plt.show()"
   ]
  },
  {
   "cell_type": "code",
   "execution_count": 10,
   "metadata": {},
   "outputs": [
    {
     "name": "stdout",
     "output_type": "stream",
     "text": [
      "5/5 [==============================] - 1s 279ms/step - loss: 0.1416 - accuracy: 0.9338\n",
      "[0.14160028100013733, 0.9337748289108276]\n"
     ]
    }
   ],
   "source": [
    "\n",
    "print(model.evaluate(test_data,test_target))"
   ]
  },
  {
   "cell_type": "code",
   "execution_count": 1,
   "metadata": {},
   "outputs": [],
   "source": [
    "from keras.models import load_model\n",
    "import cv2\n",
    "import numpy as np"
   ]
  },
  {
   "cell_type": "code",
   "execution_count": 2,
   "metadata": {},
   "outputs": [],
   "source": [
    "model = load_model('model-015.model')\n",
    "\n",
    "face_clsfr=cv2.CascadeClassifier(cv2.data.haarcascades + \"haarcascade_frontalface_default.xml\")\n",
    "\n",
    "source=cv2.VideoCapture(0)\n",
    "\n",
    "labels_dict={1:'with_mask',0:'without_mask'}\n",
    "color_dict={0:(0,0,255),1:(0,255,0)}"
   ]
  },
  {
   "cell_type": "code",
   "execution_count": null,
   "metadata": {},
   "outputs": [],
   "source": [
    "while(True):\n",
    "\n",
    "    ret,img=source.read()\n",
    "    gray=cv2.cvtColor(img,cv2.COLOR_BGR2GRAY)\n",
    "    faces=face_clsfr.detectMultiScale(gray,1.3,5)  \n",
    "\n",
    "    for x,y,w,h in faces:\n",
    "    \n",
    "        face_img=gray[y:y+w,x:x+w]\n",
    "        resized=cv2.resize(face_img,(100,100))\n",
    "        normalized=resized/255.0\n",
    "        reshaped=np.reshape(normalized,(1,100,100,1))\n",
    "        result=model.predict(reshaped)\n",
    "\n",
    "        label=np.argmax(result,axis=1)[0]\n",
    "      \n",
    "        cv2.rectangle(img,(x,y),(x+w,y+h),color_dict[label],2)\n",
    "        cv2.rectangle(img,(x,y-40),(x+w,y),color_dict[label],-1)\n",
    "        cv2.putText(img, labels_dict[label], (x, y-10),cv2.FONT_HERSHEY_SIMPLEX,0.8,(255,255,255),2)\n",
    "        \n",
    "        \n",
    "    cv2.imshow('LIVE',img)\n",
    "    key=cv2.waitKey(1)\n",
    "    \n",
    "    if(key==27):\n",
    "        break\n",
    "        \n",
    "cv2.destroyAllWindows()\n",
    "source.release()"
   ]
  },
  {
   "cell_type": "code",
   "execution_count": null,
   "metadata": {},
   "outputs": [],
   "source": []
  }
 ],
 "metadata": {
  "kernelspec": {
   "display_name": "Python 3",
   "language": "python",
   "name": "python3"
  },
  "language_info": {
   "codemirror_mode": {
    "name": "ipython",
    "version": 3
   },
   "file_extension": ".py",
   "mimetype": "text/x-python",
   "name": "python",
   "nbconvert_exporter": "python",
   "pygments_lexer": "ipython3",
   "version": "3.8.5"
  }
 },
 "nbformat": 4,
 "nbformat_minor": 4
}
